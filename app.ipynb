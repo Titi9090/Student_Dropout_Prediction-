{
 "cells": [
  {
   "cell_type": "code",
   "execution_count": null,
   "id": "05870d39-fe31-4d69-8eb8-53e244806b41",
   "metadata": {},
   "outputs": [
    {
     "name": "stdout",
     "output_type": "stream",
     "text": [
      " * Serving Flask app '__main__'\n",
      " * Debug mode: off\n"
     ]
    },
    {
     "name": "stderr",
     "output_type": "stream",
     "text": [
      "WARNING: This is a development server. Do not use it in a production deployment. Use a production WSGI server instead.\n",
      " * Running on http://127.0.0.1:5000\n",
      "Press CTRL+C to quit\n"
     ]
    }
   ],
   "source": [
    "from flask import Flask, request, jsonify\n",
    "from flask_cors import CORS\n",
    "import joblib\n",
    "import numpy as np\n",
    "\n",
    "app = Flask(__name__)\n",
    "\n",
    "# ✅ Secure CORS setup — only allow specific origins\n",
    "CORS(app, resources={\n",
    "    r\"/predict\": {\"origins\": [\"http://localhost:3000\", \"https://your-app-frontend.com\"]}\n",
    "})\n",
    "\n",
    "model = joblib.load(\"rf_model.pkl\")\n",
    "\n",
    "@app.route('/')\n",
    "def home():\n",
    "    return jsonify({\"message\": \"Model API is running!\"})\n",
    "\n",
    "@app.route('/predict', methods=['POST'])\n",
    "def predict():\n",
    "    data = request.get_json()\n",
    "    input_features = np.array(data['features']).reshape(1, -1)\n",
    "    prediction = model.predict(input_features)[0]\n",
    "    return jsonify({'prediction': str(prediction)})\n",
    "\n",
    "if __name__ == '__main__':\n",
    "    app.run(debug=False)  # Set debug=False in production\n",
    "\n",
    "CORS(app, resources={\n",
    "    r\"/predict\": {\n",
    "        \"origins\": [\"https://your-app.com\"],\n",
    "        \"methods\": [\"POST\"],\n",
    "        \"allow_headers\": [\"Content-Type\"]\n",
    "    }\n",
    "})"
   ]
  },
  {
   "cell_type": "code",
   "execution_count": null,
   "id": "cb30f949-3895-48f7-bdc3-8570c866b245",
   "metadata": {},
   "outputs": [],
   "source": [
    "!jupyter nbconvert --to script app.ipynb"
   ]
  },
  {
   "cell_type": "code",
   "execution_count": null,
   "id": "7087b3a3-2418-4ee8-92b6-e5a578d9f574",
   "metadata": {},
   "outputs": [],
   "source": []
  }
 ],
 "metadata": {
  "kernelspec": {
   "display_name": "Python 3 (ipykernel)",
   "language": "python",
   "name": "python3"
  },
  "language_info": {
   "codemirror_mode": {
    "name": "ipython",
    "version": 3
   },
   "file_extension": ".py",
   "mimetype": "text/x-python",
   "name": "python",
   "nbconvert_exporter": "python",
   "pygments_lexer": "ipython3",
   "version": "3.12.7"
  }
 },
 "nbformat": 4,
 "nbformat_minor": 5
}
